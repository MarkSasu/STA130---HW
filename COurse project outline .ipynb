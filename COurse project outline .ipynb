{
 "cells": [
  {
   "cell_type": "markdown",
   "id": "99664f7f",
   "metadata": {},
   "source": [
    "# Individual Project Proposal"
   ]
  },
  {
   "cell_type": "markdown",
   "id": "c678fc57",
   "metadata": {},
   "source": [
    "## 1. Research Question\n",
    "\n",
    "### Question: How do demographic factors, such as age and gender, influence psychological aspects like body self-image and personality traits?\n",
    "\n",
    "### Justification: This question explores how self-perception and personality vary across age and gender, which is feasible given the dataset’s rich demographic and psychological variables."
   ]
  },
  {
   "cell_type": "markdown",
   "id": "80db39f7",
   "metadata": {},
   "source": [
    "## Variables\n",
    "\n",
    "## Demographic Variables:\n",
    "### DEMO_age: Represents participant age, allowing for analysis across different age groups.\n",
    "### DEMO_gender: Categorizes participants by gender, enabling group comparisons.\n",
    "\n",
    "## Psychological Variables:\n",
    "\n",
    "### Body Self-Image Scores: Includes dissatisfaction metrics (e.g., height dissatisfaction).\n",
    "\n",
    "### Big Five Personality Traits: Scores for traits like neuroticism and openness to explore demographic influences.\n"
   ]
  },
  {
   "cell_type": "markdown",
   "id": "8e4a50e5",
   "metadata": {},
   "source": [
    "## Proposed Analyses and Variables"
   ]
  },
  {
   "cell_type": "markdown",
   "id": "e259ba09",
   "metadata": {},
   "source": [
    "## Analysis 1: Gender Differences in Body Self-Image Scores\n",
    "\n",
    "## Variables: \n",
    "\n",
    "### DEMO_gender,PSYCH_body_self_image_questionnaire_height_dissatisfaction_score, PSYCH_body_self_image_questionnaire_fatness_evaluation_score\n",
    "\n",
    "### Method: Independent t-tests for comparing self-image scores by gender.\n",
    "\n",
    "### Expected Outcome: Hypothesize that women may show higher dissatisfaction scores.\n",
    "\n",
    "### Null Hypothesis (H0): There is no significant difference in body self-image scores (height dissatisfaction and fatness evaluation) between men and women.\n",
    "\n",
    "## Assumptions:\n",
    "\n",
    "### Normality: Checked via Shapiro-Wilk test.\n",
    "\n",
    "### Independence: Assumes observations are independent.\n",
    "\n",
    "### Homogeneity of Variances: Tested with Levene’s test.\n",
    "\n",
    "## Visualizations:\n",
    "\n",
    "### Bar Chart (gender distribution), Boxplot (self-image scores by gender).\n",
    "\n",
    "### Usefulness: Bar chart shows gender balance; boxplot illustrates score differences.\n"
   ]
  },
  {
   "cell_type": "markdown",
   "id": "245a2b35",
   "metadata": {},
   "source": [
    "## Analysis 2: Age Group Differences in Big Five Personality Traits\n",
    "\n",
    "## Variables:\n",
    "\n",
    "### DEMO_age, PSYCH_big_five_inventory_neurotic_score, PSYCH_big_five_inventory_open_score\n",
    "### Method: ANOVA to examine trait differences across age groups.\n",
    "\n",
    "### Expected Outcome: Younger participants may score higher in neuroticism.\n",
    "\n",
    "### Null Hypothesis (H0): There is no significant difference in neuroticism and openness scores across age groups.\n",
    "\n",
    "## Assumptions:\n",
    "\n",
    "### Normality: Shapiro-Wilk test.\n",
    "### Independence: Assumes independent observations.\n",
    "### Homogeneity of Variances: Tested with Levene’s test.\n",
    "\n",
    "## Visualizations:\n",
    "\n",
    "### Histogram (age distribution), Boxplot (traits by age group).\n",
    "### Usefulness: Histogram reveals age range; boxplots highlight trait differences."
   ]
  },
  {
   "cell_type": "markdown",
   "id": "ad791898",
   "metadata": {},
   "source": [
    "## Analysis 3: Correlation Between Body Self-Image and Personality Traits\n",
    "\n",
    "## Variables:\n",
    "### PSYCH_body_self_image_questionnaire_social_dependence_score, PSYCH_big_five_inventory_extraverted_score\n",
    "\n",
    "### Method: Pearson correlation to examine the link between social dependence and extraversion.\n",
    "\n",
    "### Expected Outcome: Anticipate positive correlation.\n",
    "\n",
    "### Null Hypothesis (H0): There is no significant correlation between social dependence in body self-image and extraversion.\n",
    "\n",
    "## Assumptions: \n",
    "\n",
    "### Linearity: Assessed with a scatterplot.\n",
    "### Normality: Verified with normality tests.\n",
    "### Independence: Observations are assumed independent.\n",
    "\n",
    "## Visualizations:\n",
    "### Scatterplot (relationship between traits), Histogram (distribution of extraversion).\n",
    "### Usefulness: Scatterplot shows correlation; histogram contextualizes extraversion."
   ]
  },
  {
   "cell_type": "markdown",
   "id": "659a3bc4",
   "metadata": {},
   "source": [
    "## 4. Hypothesis and Expected Results\n",
    "\n",
    "## Hypothesis:\n",
    "\n",
    "### Gender and Self-Image: Expect higher body dissatisfaction in women.\n",
    "\n",
    "### Age and Personality: Younger participants may score higher in neuroticism.\n",
    "\n",
    "### Expected Results: Statistically significant gender differences in self-image scores and age differences in personality traits.\n",
    "\n",
    "### Significance: These findings can inform targeted interventions, particularly in mental health, by providing insights into demographic influences on psychological traits.\n"
   ]
  }
 ],
 "metadata": {
  "kernelspec": {
   "display_name": "Python 3 (ipykernel)",
   "language": "python",
   "name": "python3"
  },
  "language_info": {
   "codemirror_mode": {
    "name": "ipython",
    "version": 3
   },
   "file_extension": ".py",
   "mimetype": "text/x-python",
   "name": "python",
   "nbconvert_exporter": "python",
   "pygments_lexer": "ipython3",
   "version": "3.11.6"
  }
 },
 "nbformat": 4,
 "nbformat_minor": 5
}
