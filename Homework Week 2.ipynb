{
 "cells": [
  {
   "cell_type": "markdown",
   "id": "b1233959",
   "metadata": {},
   "source": [
    "### 1. Interacting with the Chatpot to see if it understands the Monte Hall code"
   ]
  },
  {
   "cell_type": "code",
   "execution_count": null,
   "id": "63948d16",
   "metadata": {},
   "outputs": [],
   "source": [
    "# Monte Hall Simulation Code -- not the only way to code this, but it's what Prof. Schwartz came up with...\n",
    "\n",
    "import numpy as np\n",
    "all_door_options = (1,2,3)  # tuple\n",
    "my_door_choice = 1  # 1,2,3\n",
    "i_won = 0\n",
    "reps = 100000\n",
    "for i in range(reps):\n",
    "    secret_winning_door = np.random.choice(all_door_options)\n",
    "    all_door_options_list = list(all_door_options)\n",
    "    # take the secret_winning_door, so we don't show it as a \"goat\" losing door\n",
    "    all_door_options_list.remove(secret_winning_door)\n",
    "    try:\n",
    "        # if my_door_choice was secret_winning_door then it's already removed\n",
    "        all_door_options_list.remove(my_door_choice)\n",
    "    except:\n",
    "        pass\n",
    "    # show a \"goat\" losing door and remove it\n",
    "    goat_door_reveal = np.random.choice(all_door_options_list)\n",
    "    all_door_options_list.remove(goat_door_reveal)\n",
    "\n",
    "    # put the secret_winning_door back in if it wasn't our choice\n",
    "    # we previously removed it, so it would be shown as a  \"goat\" losing door\n",
    "    if secret_winning_door != my_door_choice:\n",
    "        all_door_options_list.append(secret_winning_door)\n",
    "    # if secret_winning_door was our choice then all that's left in the list is a \"goat\" losing door\n",
    "    # if secret_winning_door wasn't our choice then it's all that will be left in the list\n",
    "\n",
    "    # swap strategy\n",
    "    my_door_choice = all_door_options_list[0]\n",
    "\n",
    "    if my_door_choice == secret_winning_door:\n",
    "        i_won += 1\n",
    "\n",
    "i_won/reps"
   ]
  },
  {
   "cell_type": "markdown",
   "id": "28e20dee",
   "metadata": {},
   "source": [
    "### After inserting the code in the chatpot and asking it if it can comprehend the code above. It explained how it understood it using a list of functions that the code does such as: 1. Initial Setup, 2. Loop for Each Iteration, 3. Handling the case Where Player Picks the Winning Door, etc.... Therefore, I can conclude that the chatbot understood my code."
   ]
  },
  {
   "cell_type": "markdown",
   "id": "eb3fcbfb",
   "metadata": {},
   "source": [
    "### 2. Asking the Chatbot to improve the code"
   ]
  },
  {
   "cell_type": "code",
   "execution_count": 2,
   "id": "ca2de352",
   "metadata": {},
   "outputs": [
    {
     "data": {
      "text/plain": [
       "0.66741"
      ]
     },
     "execution_count": 2,
     "metadata": {},
     "output_type": "execute_result"
    }
   ],
   "source": [
    "import numpy as np\n",
    "\n",
    "# Initialize variables\n",
    "reps = 100000\n",
    "switch_wins = 0\n",
    "\n",
    "for _ in range(reps):\n",
    "    # Randomly assign the winning door (1, 2, or 3)\n",
    "    winning_door = np.random.choice([1, 2, 3])\n",
    "    \n",
    "    # Player's initial choice (always starts by picking door 1)\n",
    "    player_choice = 1\n",
    "    \n",
    "    # Monty opens a door revealing a goat (not the winning door and not player's choice)\n",
    "    remaining_doors = [door for door in [1, 2, 3] if door != player_choice and door != winning_door]\n",
    "    monty_opens = np.random.choice(remaining_doors)\n",
    "    \n",
    "    # Player switches to the other unopened door\n",
    "    switch_choice = [door for door in [1, 2, 3] if door != player_choice and door != monty_opens][0]\n",
    "    \n",
    "    # Check if player wins by switching\n",
    "    if switch_choice == winning_door:\n",
    "        switch_wins += 1\n",
    "\n",
    "# Calculate and print the win percentage\n",
    "win_percentage = switch_wins / reps\n",
    "win_percentage\n"
   ]
  },
  {
   "cell_type": "markdown",
   "id": "7a0251c6",
   "metadata": {},
   "source": [
    "### Observations: The code above is what the chatbot suggested in order to simplify the already confusing-looking code. In my opinion this code is much simpler to read because it uses les methods as the previous code, while maintaining the efficiency to calculate the chance of winning if the player decides to switch doors as his preffered final choice. The chatpot simplified the door step because rather than converting repeatedly from a tuple and a list, it decided to directly used a list of [1, 2, 3]. In addition, the chatbot switched the logic of the user, instead of them remainin with the same door, it decided to switch around their thinking and make them choose the the only other remaining door. "
   ]
  },
  {
   "cell_type": "markdown",
   "id": "8b1dba53",
   "metadata": {},
   "source": [
    "### 3. Preffered version of Monty Hall Problem + comments"
   ]
  },
  {
   "cell_type": "code",
   "execution_count": null,
   "id": "32d71290",
   "metadata": {},
   "outputs": [],
   "source": [
    "import numpy as np  # Import numpy for random choice function\n",
    "\n",
    "# Initialize variables\n",
    "reps = 100000  # Number of repetitions (simulations)\n",
    "switch_wins = 0  # Counter to keep track of how many times the player wins by switching\n",
    "\n",
    "# Loop to simulate the Monty Hall problem 'reps' number of times\n",
    "for _ in range(reps):\n",
    "    # Randomly assign the winning door (1, 2, or 3)\n",
    "    winning_door = np.random.choice([1, 2, 3])\n",
    "    \n",
    "    # Player's initial choice (we assume the player always starts by picking door 1)\n",
    "    player_choice = 1\n",
    "    \n",
    "    # Monty opens a door revealing a goat (not the winning door and not the player's choice)\n",
    "    remaining_doors = [door for door in [1, 2, 3] if door != player_choice and door != winning_door]\n",
    "    monty_opens = np.random.choice(remaining_doors)  # Monty randomly selects a \"goat\" door to open\n",
    "    \n",
    "    # Player switches to the other unopened door (the one not initially chosen or revealed by Monty)\n",
    "    switch_choice = [door for door in [1, 2, 3] if door != player_choice and door != monty_opens][0]\n",
    "    \n",
    "    # Check if the player wins by switching (i.e., if the switched choice is the winning door)\n",
    "    if switch_choice == winning_door:\n",
    "        switch_wins += 1  # Increment win count if the player wins by switching\n",
    "\n",
    "# Calculate and print the win percentage (number of wins by switching divided by total repetitions)\n",
    "win_percentage = switch_wins / reps\n",
    "win_percentage  # Output the win percentage\n"
   ]
  },
  {
   "cell_type": "markdown",
   "id": "06a72cb2",
   "metadata": {},
   "source": [
    "### Above is the simpler code that I chose from the chatbot which includes comments for every single function of the program."
   ]
  },
  {
   "cell_type": "markdown",
   "id": "ed6c1559",
   "metadata": {},
   "source": [
    "### Chatbot Summary\n",
    "\n",
    "Monte Hall Simulation Code:\n",
    "\n",
    "You provided a Python simulation of the Monty Hall problem, where a player always switches doors after Monty reveals a losing (goat) door.\n",
    "I analyzed the code and explained how it works step by step. The simulation counts how many times the player wins by switching doors and calculates the win probability over many repetitions (100,000 iterations in your case).\n",
    "Streamlined Version of the Code:\n",
    "\n",
    "I suggested a simplified and more streamlined version of the Monty Hall simulation:\n",
    "Using list comprehensions to manage the doors.\n",
    "Simplifying the process of Monty revealing a door and the player switching doors.\n",
    "Keeping the code structure easier to follow while maintaining the core logic of the Monty Hall problem.\n",
    "Commented Version of the Simplified Code:\n",
    "\n",
    "I provided a commented version of the simplified simulation, explaining each line of code:\n",
    "Setting up the simulation and tracking wins.\n",
    "Assigning the winning door and Monty’s actions.\n",
    "Handling the switching strategy and counting how often the player wins by switching.\n",
    "Finally, calculating and outputting the win percentage.\n",
    "https://chatgpt.com/c/66e9cd11-6168-8000-b7e5-811a3e7da331"
   ]
  },
  {
   "cell_type": "markdown",
   "id": "8a58785c",
   "metadata": {},
   "source": [
    "### 4. Watching video + Markovian chatbot"
   ]
  },
  {
   "cell_type": "code",
   "execution_count": 1,
   "id": "63301ff8",
   "metadata": {},
   "outputs": [
    {
     "data": {
      "image/jpeg": "[encoded data removed]",
      "text/html": [
       "\n",
       "        <iframe\n",
       "            width=\"550\"\n",
       "            height=\"300\"\n",
       "            src=\"https://www.youtube.com/embed/56mGTszb_iM\"\n",
       "            frameborder=\"0\"\n",
       "            allowfullscreen\n",
       "            \n",
       "        ></iframe>\n",
       "        "
      ],
      "text/plain": [
       "<IPython.lib.display.YouTubeVideo at 0x7f5a4ca27fd0>"
      ]
     },
     "execution_count": 1,
     "metadata": {},
     "output_type": "execute_result"
    }
   ],
   "source": [
    "# Markov Chains and Text Generation\n",
    "from IPython.display import YouTubeVideo\n",
    "YouTubeVideo('56mGTszb_iM', width = 550)"
   ]
  },
  {
   "cell_type": "markdown",
   "id": "75765d8d",
   "metadata": {},
   "source": [
    "### Inserting Markovian code in new chatbot session"
   ]
  },
  {
   "cell_type": "code",
   "execution_count": null,
   "id": "b72061d3",
   "metadata": {},
   "outputs": [],
   "source": [
    "# Markovian Chatbot\n",
    "\n",
    "# from collections import defaultdict\n",
    "word_used = dict() # defaultdict(int)\n",
    "next_word = dict() # defaultdict(lambda: defaultdict(int))\n",
    "for i,word in enumerate(words[:-1]):\n",
    "\n",
    "    if word in word_used:\n",
    "        word_used[word] += 1\n",
    "    else:\n",
    "        word_used[word] = 1\n",
    "        next_word[word] = {}\n",
    "\n",
    "    if words[i+1] in next_word[word]:\n",
    "        next_word[word][words[i+1]] += 1\n",
    "    else:\n",
    "        next_word[word][words[i+1]] = 1"
   ]
  },
  {
   "cell_type": "markdown",
   "id": "f3554165",
   "metadata": {},
   "source": [
    "### After I inserted the code in the chatbot, it suggested me a more simpler version of the code and even gave me several options on how I could improve the code"
   ]
  },
  {
   "cell_type": "code",
   "execution_count": null,
   "id": "fb41f121",
   "metadata": {},
   "outputs": [],
   "source": [
    "from collections import defaultdict\n",
    "\n",
    "# defaultdict initialization for automatic handling of new words\n",
    "word_used = defaultdict(int)\n",
    "next_word = defaultdict(lambda: defaultdict(int))\n",
    "\n",
    "for i, word in enumerate(words[:-1]):\n",
    "    word_used[word] += 1  # Increment the count for the current word\n",
    "    next_word[word][words[i+1]] += 1  # Increment the count for the next word transition\n"
   ]
  },
  {
   "cell_type": "markdown",
   "id": "98b41112",
   "metadata": {},
   "source": [
    "### 5. Recreate (or resume) the previous ChatBot session from question \"4\" above, and now prompt the ChatBot session that you have a couple extensions of the code to show it, and then show it each of the extentions of the \"Markovian ChatBot code\" below in turn"
   ]
  },
  {
   "cell_type": "markdown",
   "id": "3a3b5405",
   "metadata": {},
   "source": [
    "### 5.1"
   ]
  },
  {
   "cell_type": "code",
   "execution_count": null,
   "id": "483aedf3",
   "metadata": {},
   "outputs": [],
   "source": [
    "# Markovian Chatbot Extension #1\n",
    "\n",
    "word_used2 = defaultdict(int)\n",
    "next_word2 = defaultdict(lambda: defaultdict(int))\n",
    "for i,word in enumerate(words[:-2]):\n",
    "    word_used2[word+' '+words[i+1]] += 1\n",
    "    next_word2[word+' '+words[i+1]][words[i+2]] += 1 "
   ]
  },
  {
   "cell_type": "code",
   "execution_count": null,
   "id": "026f0691",
   "metadata": {},
   "outputs": [],
   "source": [
    "# Markovian Chatbot Extension #2\n",
    "\n",
    "from collections import Counter, defaultdict\n",
    "# `avatar` is a dataset, and `character` is one of it's columns\n",
    "characters = Counter(\"\\n\"+ avatar.character.str.upper().str.replace(' ','.')+\":\")\n",
    "# this code changes the type of the `character` column to `str`; then,\n",
    "# makes the text uppercase, and replaces spaces with '.'\n",
    "\n",
    "nested_dict = lambda: defaultdict(nested_dict)\n",
    "word_used2C = nested_dict()\n",
    "next_word2C = nested_dict()\n",
    "\n",
    "for i,word in enumerate(words[:-2]):\n",
    "    if word in characters:\n",
    "        character = word\n",
    "        \n",
    "    if character not in word_used2C:\n",
    "        word_used2C[character] = dict()\n",
    "    if word+' '+words[i+1] not in word_used2C[character]:\n",
    "        word_used2C[character][word+' '+words[i+1]] = 0\n",
    "    word_used2C[character][word+' '+words[i+1]] += 1\n",
    "    \n",
    "    if character not in next_word2C:\n",
    "        next_word2C[character] = dict()\n",
    "    if word+' '+words[i+1] not in next_word2C[character]:\n",
    "        next_word2C[character][word+' '+words[i+1]] = dict()\n",
    "    if words[i+2] not in next_word2C[character][word+' '+words[i+1]]:\n",
    "        next_word2C[character][word+' '+words[i+1]][words[i+2]] = 0\n",
    "    next_word2C[character][word+' '+words[i+1]][words[i+2]] += 1"
   ]
  },
  {
   "cell_type": "markdown",
   "id": "92f62af6",
   "metadata": {},
   "source": [
    "### Extension 1: The chatbot does well to figure out what the code does by saying: This extension models a bigram (two-word sequence) Markov chain instead of a unigram (single word). It tracks the frequency of two-word sequences and the following word\" and suggests several improvements that could be added to the program such as defaultdict. \n",
    "\n",
    "### Extension 2: This time the chatbot gives a smaller explanation on what the code does, which could lead me to think that it may not understand the code as well, nevertheless it offers me the suggestion of using \"defaultdict\" to improve my code and offers me a more specialized detailed version of the extention #2 that I provided."
   ]
  },
  {
   "cell_type": "markdown",
   "id": "57138f7a",
   "metadata": {},
   "source": [
    "### Summary of chatbot"
   ]
  },
  {
   "cell_type": "markdown",
   "id": "3ea20e03",
   "metadata": {},
   "source": [
    "### \n",
    "Here’s a summary of our conversation without the code:\n",
    "\n",
    "Markovian Chatbot Basics:\n",
    "\n",
    "We started with a basic Markovian chatbot model that tracks the frequency of individual words and the transitions to subsequent words.\n",
    "Extension #1:\n",
    "\n",
    "You expanded the model to handle two-word sequences (bigrams). This extension tracks the frequency of these two-word sequences and the word that follows them.\n",
    "Extension #2:\n",
    "\n",
    "This extension introduced character-based processing. It involved counting occurrences of character categories and using nested dictionaries to manage sequences and transitions based on these categories.\n",
    "Improvements Suggested:\n",
    "\n",
    "For the basic and extended models: Simplify the code by using defaultdict to handle default values and avoid manual key checks.\n",
    "For the character-based extension: Use defaultdict for nested structures to streamline the initialization and ensure consistency in data handling."
   ]
  },
  {
   "cell_type": "markdown",
   "id": "e8bb6b89",
   "metadata": {},
   "source": [
    "### 5.3"
   ]
  },
  {
   "cell_type": "code",
   "execution_count": null,
   "id": "6c9c943e",
   "metadata": {},
   "outputs": [],
   "source": [
    "from collections import Counter, defaultdict\n",
    "\n",
    "# Assuming `avatar` is a DataFrame and `character` is a column\n",
    "characters = Counter(\"\\n\" + avatar.character.str.upper().str.replace(' ', '.') + \":\")\n",
    "\n",
    "nested_dict = lambda: defaultdict(nested_dict)\n",
    "word_used2C = nested_dict()\n",
    "next_word2C = nested_dict()\n",
    "\n",
    "for i, word in enumerate(words[:-2]):\n",
    "    if word in characters:\n",
    "        character = word\n",
    "    else:\n",
    "        continue  # Skip if the word is not in characters\n",
    "\n",
    "    # Update word pair counts for the character\n",
    "    if word + ' ' + words[i+1] not in word_used2C[character]:\n",
    "        word_used2C[character][word + ' ' + words[i+1]] = 0\n",
    "    word_used2C[character][word + ' ' + words[i+1]] += 1\n",
    "\n",
    "    # Update next word counts for the character and word pair\n",
    "    if word + ' ' + words[i+1] not in next_word2C[character]:\n",
    "        next_word2C[character][word + ' ' + words[i+1]] = defaultdict(int)\n",
    "    next_word2C[character][word + ' ' + words[i+1]][words[i+2]] += 1\n",
    "\n",
    "# Example usage\n",
    "print(\"Word pair usage counts:\", dict(word_used2C))\n",
    "print(\"Next word probabilities:\", dict(next_word2C))\n"
   ]
  },
  {
   "cell_type": "markdown",
   "id": "d426b161",
   "metadata": {},
   "source": [
    "### The chatbot still understands the code the second extension I provided even if I didn't add the intermediate extension before it. I know this because it lists a summary of the updates I added to the extension such as : Character-Based Count: and Nested Dictionaries. Furthermore, it gives me a list of improvements and clarifications I should make such as the initialization of \"character\". As well as using data structure choices such as nested_dict and default_dict. "
   ]
  },
  {
   "cell_type": "markdown",
   "id": "a5c04892",
   "metadata": {},
   "source": [
    "### 6 Report on your experience interacting with ChatBots to understand the Monte Hall problem and \"Markovian ChatBot\" code"
   ]
  },
  {
   "cell_type": "markdown",
   "id": "78882542",
   "metadata": {},
   "source": [
    "### 6.1 Discuss how quickly the ChatBot was able to be helpful for each of the above questions, and if so, how?\n",
    "\n",
    "The chatbot was able to respond within seconds, which shows the deep level of understanding it had for the codes I was sumbitting, which was quite surprising given the fact that we were tasked with trying to throw it off by not giving it one of the extension codes. Fortunately it adapted well to that and returned me an even more detailed code. For example, as previously stated above, for both extensions it offered me a suggestion to add a the function of defaultdict(int), which automatically initializes new keys with 0, which simplifies counting occurences."
   ]
  },
  {
   "cell_type": "markdown",
   "id": "1ed25674",
   "metadata": {},
   "source": [
    "### 6.2 Discuss whether or not interacting with ChatBot to try to figure things out was frustrating or unhelpful, and if so, how?\n",
    "\n",
    "Discusssing topics with chatgpt was very helpful with my understanding of the more complex topics to grasp. For example, when I asked chatgpt to add comments explaining the function to every single line of the more simplified Monte Hall code it provided me instead of the original one. Within seconds it gave a new code which included comments for every single line. This was crucial to my learning because without those comments I would've been left confused with some of the adjustments it made for the Monte Hall code."
   ]
  },
  {
   "cell_type": "markdown",
   "id": "e9c4234b",
   "metadata": {},
   "source": [
    "### 6.3 Based on your experiences to date (e.g., including using ChatBots to troubleshoot coding errors in the previous homework), provide an overall assessment evaluating the usefulness of ChatBots as tools to help you understand code\n",
    "\n",
    "I would say most of the time Chatbots help when I have coding errors, this is by virtue that when I insert a false code and tell it what's wrong with it. It gives me an updated error that most of the time would work if I were tu run it in JupyterHub. On the contrary, sometimes it adds functions that weren't originally defined and therefore causes more errors to happen because python can't automatically define a function without my help. Thus, chatgpt has been helpful overall with suggesting me options to fix my code, but sometimes it may add a more complex function that I have not yet studied. \n",
    "\n",
    "\n"
   ]
  },
  {
   "cell_type": "markdown",
   "id": "c476c575",
   "metadata": {},
   "source": [
    "### Chatbot Summary Question 6\n",
    "\n",
    "Here's a summary of our chat:\n",
    "\n",
    "You shared an extension for your Markovian chatbot that processes a dataset (avatar) and focuses on the character column.\n",
    "The extension adds a character-based context to the Markov model by counting word pairs and the next word based on a specific character.\n",
    "You use a Counter to process the character column by converting the text to uppercase and replacing spaces with dots.\n",
    "Two nested dictionaries, word_used2C and next_word2C, track word pairs and transition probabilities for each character.\n",
    "I provided a refined version of the code with comments and small improvements to ensure proper initialization and structure.\n",
    "\n",
    "https://chatgpt.com/share/66ec5de6-57c4-8000-8628-99edb57de163"
   ]
  },
  {
   "cell_type": "markdown",
   "id": "0f2cac4c",
   "metadata": {},
   "source": [
    "### Question 7 \n",
    "\n",
    "In my opinion my perception on the assistance of AI-driven assistance tools in the context of learning coding, statistics, and data science has evolved over the course of the past few homeworks inlcuding this one. Firstly, I started to using chatgpt to help me understand my school work when I was confused every since it first became popular back in january 2022. In addition, during that time period I was also enrolled in a coding course at my local highschool and when I wouldn't understand a concept in class I would insert into chatgpt hoping for an explanation. Although it tried it's best to explain it to me, it wouldn't provide me an example of the code and how it worked and personally I'm a visual learner so if I didn't see an example of the code it would be harder for me to understand. On the contrary, in the past two homeworks, I was heavily impressed with the efficiency that chatgpt was providing me answers when I would insert a data set into our chats. It would return me a code showing all the missing data and it even took an extra step in showing me how I could remove it and make my dataset look complete. Furthermore, when I ask it to provide me a further explanation on a specific subject, the AI tool would immediatley give me a new response which I found to be incredibly helpful due to the fact that the chatbot would adapt to my needs to further enhance my learning."
   ]
  },
  {
   "cell_type": "markdown",
   "id": "0234e47b",
   "metadata": {},
   "source": [
    "### Question 8 \n",
    "\n",
    "1. According to the chatbot, the relevance of all the topcis asked in the question are that in today's data science industry, the importance of key skills like learning and adaptability, communication, coding and statistics and data analysis cannot be overstated. As the volume of the complexity of data grow, professionals need to master a wide array of competencies to remain competitive and impactful in their careers. In the context of career opportunities, these four skills are interconnected and form the foundation of what employers look for in candidates. Learning and adaptibility ensure that professionals can evolve with technological advancements, staying compettive as industry changes.\n",
    "\n",
    "2. Here is the chatbots response to if I would be able to become a data scientist or data anylysis without any coding experience: Data scientists analyze complex datasets, build machine learning models, and derive insights that help drive business decisions. Their job involves exploratory data analysis, predictive modeling, and interpreting data trends. Coding and Data Analysis Role: Coding is at the heart of data science. Languages like Python or R are used extensively for data cleaning, statistical modeling, and deploying machine learning algorithms. Data analysis is a huge part of the data science workflow, requiring a solid grasp of coding to work with large datasets, visualize results, and communicate findings. Without the ability to code, it would be impossible to automate workflows, perform detailed data wrangling, or implement advanced models. While you could theoretically focus on statistical theory or work in more conceptual areas of statistics (such as in academia), in most practical roles, coding and data analysis are necessary. You might be able to collaborate with others who handle coding, but you would still need a strong understanding of data analysis to design models or interpret results effectively. Data Scientists: It's nearly impossible to work as a data scientist without coding or data analysis. These skills form the core of data science, and even the most strategic or communication-oriented roles within data science require a deep understanding of data, which involves performing some form of analysis and coding. After reading this, I can conclude that if I were to become a data scientist or data analyst, I would need at least some sort of coding knowledge or become acquainted with tools such as Excel to at least have some sort of competency in the coding industry. In regards to my future, I would like to be an actuary therefore after asking chatgpt what would be some of the skills and competencies I need in order to become an actuarial scientist, it listed the following nine skills/certifications:\n",
    "1. Mathematical profficiency\n",
    "    - Probability theory\n",
    "    - calculus \n",
    "    - Financial mathematics\n",
    "2. Statistics and Data Analysis:\n",
    "    - Hypothesis testing\n",
    "    - Time series analysis\n",
    "3. Risk Assessment\n",
    "    - Understanding of risk theory\n",
    "    - Underwriting processes\n",
    "    - Claims modeling\n",
    "4. Financial Knowledge:\n",
    "    - Financial reporting \n",
    "    - Investment strategies\n",
    "    - Asset valuation\n",
    "    - Bond and interest rate analysis\n",
    "5. Business Acumen:\n",
    "    - Understanding of insurance principles\n",
    "    - Knowledge of regulatory requirements\n",
    "    - Financial planning\n",
    "6. Coding skills\n",
    "    - Excel\n",
    "    -R or python\n",
    "    - Actuarial software like AXIS, Prophet, ir MoSes\n",
    "7. Communication Skills: \n",
    "    - Report writing\n",
    "    - Presenting complex data clearly\n",
    "    - Collaboration with cross-functional teams\n",
    "8. Analytical Thinking:\n",
    "    - Problem solving under uncertainty\n",
    "    - Creative thinking in model development\n",
    "9. Exams and professional certifications:\n",
    "    - Actuarial mathematics\n",
    "    - Probability and financials maths\n"
   ]
  },
  {
   "cell_type": "markdown",
   "id": "36a62efd",
   "metadata": {},
   "source": [
    "### Chatbot Summary"
   ]
  },
  {
   "cell_type": "markdown",
   "id": "1d88e697",
   "metadata": {},
   "source": [
    "### \n",
    "\n",
    "\n",
    "ChatGPT\n",
    "Today’s conversation centered on the skills required for an actuarial career, as well as the role of coding and data analysis in fields like statistics and data science.\n",
    "\n",
    "Becoming an Actuary: Skills Breakdown:\n",
    "You inquired about the essential skills for becoming an actuary, and I provided a detailed overview of what is necessary to succeed in that field. Here’s a summary of those skills:\n",
    "\n",
    "Mathematical Proficiency:\n",
    "\n",
    "Actuaries need strong mathematical abilities, particularly in areas like calculus, probability theory, and financial mathematics. These skills are vital for modeling risks, calculating premiums, and making predictions about uncertain events like mortality rates or investment performance.\n",
    "Statistics and Data Analysis:\n",
    "\n",
    "Proficiency in statistics is a core component of actuarial work. Actuaries often deal with large datasets to assess risks and make recommendations, using techniques like regression analysis, time series, and survival analysis to evaluate uncertainties in insurance or financial products.\n",
    "Risk Assessment and Management:\n",
    "\n",
    "A major part of an actuary’s job is to evaluate and manage risk, especially in industries like insurance or pensions. Actuaries use models to predict the likelihood of future events and to advise companies on risk mitigation strategies, such as pricing insurance policies or determining pension liabilities.\n",
    "Financial Knowledge:\n",
    "\n",
    "Actuaries need to understand financial principles, including investment strategies, asset valuation, and financial reporting. This knowledge helps in evaluating the financial impact of risk and making informed decisions on reserves, pricing, or future liabilities.\n",
    "Coding and Technology Skills:\n",
    "\n",
    "With the increasing complexity of data and models, actuaries often rely on programming skills and specialized software. Proficiency in Excel, along with languages like Python or R, helps in performing data analysis, running simulations, and creating actuarial models.\n",
    "Communication Skills:\n",
    "\n",
    "Actuaries frequently need to present their findings to non-technical stakeholders, such as executives or clients. Clear communication is critical in ensuring that complex statistical insights are understood and acted upon, whether it’s in writing reports, presenting models, or collaborating with business units.\n",
    "Business Acumen:\n",
    "\n",
    "Actuaries must understand the business implications of their work. This includes knowledge of insurance principles, regulatory environments, and how financial risks impact a company’s operations. This helps actuaries create models that are both technically sound and aligned with business needs.\n",
    "Analytical Thinking:\n",
    "\n",
    "Strong analytical skills are essential for solving problems and evaluating complex data. Actuaries must be able to assess risks, think critically about data, and apply mathematical and statistical models to real-world scenarios.\n",
    "Professional Certification:\n",
    "\n",
    "To become an actuary, passing certification exams through bodies like the Society of Actuaries (SOA) or the Casualty Actuarial Society (CAS) is essential. These exams cover mathematical modeling, risk assessment, probability, and specialized topics like pensions or insurance products.\n",
    "Actuaries vs. Statisticians or Data Scientists: The Role of Coding and Data Analysis:\n",
    "You also asked whether it is possible to pursue careers as a statistician or data scientist without relying on coding or data analysis. I explained that both professions are highly dependent on these technical skills:\n",
    "\n",
    "Statisticians:\n",
    "While statisticians primarily work on applying statistical models and theories to interpret data, coding is almost always necessary to handle the large datasets typically involved. Tools like R, SAS, or Python are common, and without coding, it would be difficult to efficiently manage, clean, or analyze data. Although there may be some theoretical or consulting roles for statisticians where coding is less central, these are exceptions rather than the norm.\n",
    "Data Scientists:\n",
    "Coding is fundamental in data science. Data scientists use programming languages like Python or R for data manipulation, machine learning model development, and large-scale data analysis. Data analysis is at the core of a data scientist’s job, and much of their work involves creating algorithms, building predictive models, and analyzing complex datasets. Without coding and data analysis, it would be nearly impossible to function as a data scientist.\n",
    "\n",
    "\n",
    "https://chatgpt.com/share/66ec6bfd-0264-8000-83d0-1ccadaabb43c"
   ]
  },
  {
   "cell_type": "markdown",
   "id": "344706cb",
   "metadata": {},
   "source": [
    "### Question 8.4\n",
    "\n",
    "My thoughts on what Chatgpt would be worrying because there is a lot to cover overall, wether its certifications, knowing complex math or coding. On the contrary, this encourages me to continue pursuing this field due to the fact that in my first year of university, many of the courses I'm taking relate to becoming an Actuarial Scientist, therefore I feel like I'm on the right track to achieving my dream job. To improve my skills, I feel as if all I have to do is keep studying my programs and look into the more detailed programming skills as well as math skills required to become an actuary so that when the time comes, I will be ready to join the workforce."
   ]
  },
  {
   "cell_type": "markdown",
   "id": "e0ac1abe",
   "metadata": {},
   "source": [
    "### Question 8.5 \n",
    "\n",
    "Chatgpt has greatly helped my understanding of what it takes to become an actuary and what specifications I need in order to achieve my goal. It gave me a list of everything I need to master in order to succesfully do my job as an actuary and I feel as if that has gave me clarity on the path I would like to pursure. If I were to continue the conversation, I would pose the question of \"How can I gain these skills and what tips could you give me\" to the chatbot because I feel as if by knowing the little details of actuarial math or the programs they use in their day to day worklife, I can be a step ahead of the competition. "
   ]
  },
  {
   "cell_type": "markdown",
   "id": "73a38af4",
   "metadata": {},
   "source": [
    "### Question 9\n",
    "\n",
    "When I am confused, first I go to Wiki-textbook to see if my confusion could be answered there, if not I go to Piazza and ask my question hoping someone could answer, wether it is a TA or another student. "
   ]
  }
 ],
 "metadata": {
  "kernelspec": {
   "display_name": "Python 3 (ipykernel)",
   "language": "python",
   "name": "python3"
  },
  "language_info": {
   "codemirror_mode": {
    "name": "ipython",
    "version": 3
   },
   "file_extension": ".py",
   "mimetype": "text/x-python",
   "name": "python",
   "nbconvert_exporter": "python",
   "pygments_lexer": "ipython3",
   "version": "3.11.6"
  }
 },
 "nbformat": 4,
 "nbformat_minor": 5
}
